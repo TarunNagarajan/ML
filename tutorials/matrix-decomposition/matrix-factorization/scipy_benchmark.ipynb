{
  "nbformat": 4,
  "nbformat_minor": 0,
  "metadata": {
    "colab": {
      "provenance": []
    },
    "kernelspec": {
      "name": "python3",
      "display_name": "Python 3"
    },
    "language_info": {
      "name": "python"
    }
  },
  "cells": [
    {
      "cell_type": "code",
      "execution_count": 1,
      "metadata": {
        "id": "df-kM56vfFXR"
      },
      "outputs": [],
      "source": [
        "import numpy as np"
      ]
    },
    {
      "cell_type": "code",
      "source": [
        "from scipy.linalg import lu, solve"
      ],
      "metadata": {
        "id": "CUTpoz2AfOEL"
      },
      "execution_count": 2,
      "outputs": []
    },
    {
      "cell_type": "code",
      "source": [
        "A = np.array([[2, 3, 1],\n",
        "              [4, 7, 7],\n",
        "              [6, 18, 22]], dtype=float)\n",
        "b = np.array([1, 2, 3], dtype=float)"
      ],
      "metadata": {
        "id": "mUv-WVl_fWLp"
      },
      "execution_count": 3,
      "outputs": []
    },
    {
      "cell_type": "code",
      "source": [
        "def fwd(L, b):\n",
        "  n = L.shape[0]\n",
        "  y = np.zeros_like(b)\n",
        "  for i in range(n):\n",
        "    y[i] = b[i] - L[i, :i] @ y[:i]\n",
        "\n",
        "  return y"
      ],
      "metadata": {
        "id": "UB4j0_znfqdo"
      },
      "execution_count": 5,
      "outputs": []
    },
    {
      "cell_type": "code",
      "source": [
        "def bwd(U, y):\n",
        "  n = U.shape[0]\n",
        "  x = np.zeros_like(y)\n",
        "  for i in reversed(range(n)):\n",
        "    x[i] = (y[i] - U[i, i+1:] @ x[i+1:]) / U[i, i]\n",
        "  return x"
      ],
      "metadata": {
        "id": "u68gEUfcft-C"
      },
      "execution_count": 6,
      "outputs": []
    },
    {
      "cell_type": "code",
      "source": [
        "def lu(A):\n",
        "  n = A.shape[0]\n",
        "  P = np.eye(n)\n",
        "  L = np.zeros((n, n))\n",
        "  U = A.copy().astype(float)\n",
        "\n",
        "  for k in range(n):\n",
        "    max_index = np.argmax(abs(U[k:, k])) + k\n",
        "    if k != max_index:\n",
        "      U[[k, max_index]] = U[[max_index, k]]\n",
        "      P[[k, max_index]] = P[[max_index, k]]\n",
        "      L[[k, max_index]] = L[[max_index, k]]\n",
        "\n",
        "    for i in range(k+1, n):\n",
        "      L[i][k] = U[i][k] / U[k][k]\n",
        "      U[i][k:] = U[i][k:] - L[i][k] * U[k][k:]\n",
        "\n",
        "    np.fill_diagonal(L, 1)\n",
        "    return P, L, U"
      ],
      "metadata": {
        "id": "qIzswWKTfc0e"
      },
      "execution_count": 4,
      "outputs": []
    },
    {
      "cell_type": "code",
      "source": [
        "P, L, U = lu(A)\n",
        "Pb = P @ b\n",
        "y = fwd(L, Pb)\n",
        "x_custom = bwd(U, y)\n",
        "\n",
        "P_scipy, L_scipy, U_scipy = lu(A)\n",
        "x_scipy = solve(A, b)\n",
        "\n",
        "print(\"Custom: \", x_custom)\n",
        "print(\"Scipy: \", x_scipy)"
      ],
      "metadata": {
        "colab": {
          "base_uri": "https://localhost:8080/"
        },
        "id": "B4b3dbmKfhLK",
        "outputId": "d079b7a9-9ff2-4ff2-c742-9195d026d2a4"
      },
      "execution_count": 7,
      "outputs": [
        {
          "output_type": "stream",
          "name": "stdout",
          "text": [
            "Custom:  [ 0.5 -0.  -0. ]\n",
            "Scipy:  [ 0.5 -0.  -0. ]\n"
          ]
        }
      ]
    },
    {
      "cell_type": "code",
      "source": [
        "import time"
      ],
      "metadata": {
        "id": "M3GyesnngFkJ"
      },
      "execution_count": 8,
      "outputs": []
    },
    {
      "cell_type": "code",
      "source": [
        "import time\n",
        "\n",
        "# Generate a random square matrix\n",
        "n = 100  # Size of the matrix\n",
        "A_random = np.random.rand(n, n)\n",
        "b_random = np.random.rand(n)\n",
        "\n",
        "# Benchmark your LU decomposition\n",
        "start = time.time()\n",
        "P_custom, L_custom, U_custom = lu(A_random)\n",
        "Pb_random = P_custom @ b_random\n",
        "y_random = fwd(L_custom, Pb_random)\n",
        "x_custom_random = bwd(U_custom, y_random)\n",
        "end = time.time()\n",
        "custom_time = end - start\n",
        "print(f\"Custom LU time for size {n}: {custom_time:.6f} seconds\")\n",
        "\n",
        "# Benchmark SciPy LU decomposition\n",
        "start = time.time()\n",
        "P_scipy_random, L_scipy_random, U_scipy_random = lu(A_random)\n",
        "x_scipy_random = solve(A_random, b_random)\n",
        "end = time.time()\n",
        "scipy_time = end - start\n",
        "print(f\"SciPy LU time for size {n}: {scipy_time:.6f} seconds\")\n"
      ],
      "metadata": {
        "colab": {
          "base_uri": "https://localhost:8080/"
        },
        "id": "-VN8HfKbgGqh",
        "outputId": "cf9b8743-749d-4166-f74a-378d9d90457d"
      },
      "execution_count": 10,
      "outputs": [
        {
          "output_type": "stream",
          "name": "stdout",
          "text": [
            "Custom LU time for size 100: 0.002754 seconds\n",
            "SciPy LU time for size 100: 0.004535 seconds\n"
          ]
        }
      ]
    }
  ]
}