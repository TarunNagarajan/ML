{
  "nbformat": 4,
  "nbformat_minor": 0,
  "metadata": {
    "colab": {
      "provenance": []
    },
    "kernelspec": {
      "name": "python3",
      "display_name": "Python 3"
    },
    "language_info": {
      "name": "python"
    }
  },
  "cells": [
    {
      "cell_type": "code",
      "execution_count": 1,
      "metadata": {
        "id": "v6I6Q6u4cnK0"
      },
      "outputs": [],
      "source": [
        "import numpy as np"
      ]
    },
    {
      "cell_type": "code",
      "source": [
        "def lu(A):\n",
        "  n = A.shape[0]\n",
        "  P = np.eye(n)\n",
        "  L = np.zeros((n, n))\n",
        "  U = A.copy().astype(float)\n",
        "\n",
        "  for k in range(n):\n",
        "    max_index = np.argmax(abs(U[k:, k])) + k\n",
        "    if k != max_index:\n",
        "      U[[k, max_index]] = U[[max_index, k]]\n",
        "      P[[k, max_index]] = P[[max_index, k]]\n",
        "      L[[k, max_index]] = L[[max_index, k]]\n",
        "\n",
        "    for i in range(k+1, n):\n",
        "      L[i][k] = U[i][k] / U[k][k]\n",
        "      U[i][k:] = U[i][k:] - L[i][k] * U[k][k:]\n",
        "\n",
        "    np.fill_diagonal(L, 1)\n",
        "    return P, L, U"
      ],
      "metadata": {
        "id": "M4pxhOFqdSx7"
      },
      "execution_count": 2,
      "outputs": []
    },
    {
      "cell_type": "code",
      "source": [
        "A = np.array([[2, 3, 1],\n",
        "              [4, 7, 7],\n",
        "              [6, 18, 22]], dtype=float)\n",
        "\n",
        "b = np.array([1, 2, 3], dtype=float)"
      ],
      "metadata": {
        "id": "vlZ50qNYdXT4"
      },
      "execution_count": 4,
      "outputs": []
    },
    {
      "cell_type": "code",
      "source": [
        "P, L, U = lu(A)"
      ],
      "metadata": {
        "id": "I1AJ1-M5dZ-t"
      },
      "execution_count": 5,
      "outputs": []
    },
    {
      "cell_type": "code",
      "source": [
        "Pb = P @ b"
      ],
      "metadata": {
        "id": "QAeXYSq_ddsH"
      },
      "execution_count": 6,
      "outputs": []
    },
    {
      "cell_type": "code",
      "source": [
        "def fwd(L, b):\n",
        "  n = L.shape[0]\n",
        "  y = np.zeros_like(b)\n",
        "  for i in range(n):\n",
        "    y[i] = b[i] - L[i, :i] @ y[:i]\n",
        "\n",
        "  return y\n"
      ],
      "metadata": {
        "id": "jYLqPHxBdiBp"
      },
      "execution_count": 7,
      "outputs": []
    },
    {
      "cell_type": "code",
      "source": [
        "def bwd(U, y):\n",
        "  n = U.shape[0]\n",
        "  x = np.zeros_like(y)\n",
        "  for i in reversed(range(n)):\n",
        "    x[i] = (y[i] - U[i, i+1:] @ x[i+1:]) / U[i, i]\n",
        "  return x"
      ],
      "metadata": {
        "id": "VPHGE_aAeC_7"
      },
      "execution_count": 8,
      "outputs": []
    },
    {
      "cell_type": "code",
      "source": [
        "# Decompose\n",
        "P, L, U = lu(A)\n",
        "\n",
        "# Apply to solve Ax = b\n",
        "Pb = P @ b\n",
        "y = fwd(L, Pb)\n",
        "x = bwd(U, y)\n",
        "\n",
        "print(\"Solution x:\", x)\n",
        "\n",
        "# Verify solution\n",
        "print(\"Ax:\", A @ x)\n",
        "print(\"b:\", b)\n"
      ],
      "metadata": {
        "colab": {
          "base_uri": "https://localhost:8080/"
        },
        "id": "leQQ2kZQeYyb",
        "outputId": "d68c8a1f-2db2-4f9e-b1b3-1fa762e0870f"
      },
      "execution_count": 11,
      "outputs": [
        {
          "output_type": "stream",
          "name": "stdout",
          "text": [
            "Solution x: [ 0.5 -0.  -0. ]\n",
            "Ax: [1. 2. 3.]\n",
            "b: [1. 2. 3.]\n"
          ]
        }
      ]
    }
  ]
}