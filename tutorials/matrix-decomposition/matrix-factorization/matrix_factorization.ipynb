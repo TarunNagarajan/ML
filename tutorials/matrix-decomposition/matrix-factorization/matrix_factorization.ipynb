{
  "nbformat": 4,
  "nbformat_minor": 0,
  "metadata": {
    "colab": {
      "provenance": []
    },
    "kernelspec": {
      "name": "python3",
      "display_name": "Python 3"
    },
    "language_info": {
      "name": "python"
    }
  },
  "cells": [
    {
      "cell_type": "code",
      "execution_count": 1,
      "metadata": {
        "id": "0hq829erYYU_"
      },
      "outputs": [],
      "source": [
        "import numpy as np\n",
        "import math"
      ]
    },
    {
      "cell_type": "code",
      "source": [
        "def lu(A):\n",
        "  n = A.shape[0]\n",
        "  P = np.eye(n)\n",
        "  L = np.zeros((n, n))\n",
        "  U = A.copy().astype(float)\n",
        "\n",
        "  for k in range(n):\n",
        "    max_index = np.argmax(abs(U[k:, k])) + k\n",
        "    if k != max_index:\n",
        "      U[[k, max_index]] = U[[max_index, k]]\n",
        "      P[[k, max_index]] = P[[max_index, k]]\n",
        "      L[[k, max_index]] = L[[max_index, k]]\n",
        "\n",
        "    for i in range(k+1, n):\n",
        "      L[i][k] = U[i][k] / U[k][k]\n",
        "      U[i][k:] = U[i][k:] - L[i][k] * U[k][k:]\n",
        "\n",
        "    np.fill_diagonal(L, 1)\n",
        "    return P, L, U"
      ],
      "metadata": {
        "id": "oDG6qxGHYqYp"
      },
      "execution_count": 2,
      "outputs": []
    },
    {
      "cell_type": "code",
      "source": [
        "A = np.array([[2, 3, 1],\n",
        "              [4, 7, 7],\n",
        "              [6, 18, 22]], dtype=float)\n",
        "\n",
        "P, L, U = lu(A)\n",
        "\n",
        "print(\"P:\\n\", P)\n",
        "print(\"L:\\n\", L)\n",
        "print(\"U:\\n\", U)\n",
        "\n",
        "# Check result\n",
        "print(\"Check PA == LU:\\n\", np.allclose(P @ A, L @ U))\n"
      ],
      "metadata": {
        "colab": {
          "base_uri": "https://localhost:8080/"
        },
        "id": "VO9xrHPxb0j3",
        "outputId": "1c6027ab-7729-4c5c-96ef-7e681a762bb7"
      },
      "execution_count": 4,
      "outputs": [
        {
          "output_type": "stream",
          "name": "stdout",
          "text": [
            "P:\n",
            " [[0. 0. 1.]\n",
            " [0. 1. 0.]\n",
            " [1. 0. 0.]]\n",
            "L:\n",
            " [[1.         0.         0.        ]\n",
            " [0.66666667 1.         0.        ]\n",
            " [0.33333333 0.         1.        ]]\n",
            "U:\n",
            " [[ 6.         18.         22.        ]\n",
            " [ 0.         -5.         -7.66666667]\n",
            " [ 0.         -3.         -6.33333333]]\n",
            "Check PA == LU:\n",
            " True\n"
          ]
        }
      ]
    }
  ]
}